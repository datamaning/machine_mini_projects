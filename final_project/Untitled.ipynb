{
 "cells": [
  {
   "cell_type": "markdown",
   "metadata": {},
   "source": [
    "# 从安然公司的邮件中识别欺诈行为  \n",
    "## 项目描述  \n",
    "在2000年，安然公司是美国最大的公司之一，到2002年时，由于广泛的公司诈骗，它已崩溃到破产边缘，在2000年,安然公司是美国最大的公司之一。到2002时，由于广泛的公司欺诈，它已崩溃到破产中。在由此产生的联邦调查中，有相当数量机密信息进入公众眼前，包括成千上万的电子邮件和详细的财务数据。安然欺诈案是一个混乱而又引人入胜的大事件，从中可以发现几乎所有想像得到的企业违法行为。\n",
    "\n",
    "在这个项目中，我将使用Python机器学习库：scikit-learn 和安然电子邮件和财务数据，来建立模型，识别欺诈行为。\n",
    "\n",
    "本项目将运用到以下知识："
   ]
  },
  {
   "cell_type": "markdown",
   "metadata": {},
   "source": [
    "# 特征缩放和特征选择\n",
    "## 安然数据集\n"
   ]
  },
  {
   "cell_type": "code",
   "execution_count": 6,
   "metadata": {
    "collapsed": false
   },
   "outputs": [],
   "source": [
    "import matplotlib.pyplot as plt\n",
    "%matplotlib inline\n",
    "import pickle\n",
    "from sklearn import preprocessing\n",
    "from time import time\n",
    "from sklearn.naive_bayes import GaussianNB\n",
    "from sklearn.metrics import accuracy_score\n",
    "from sklearn.grid_search import GridSearchCV\n",
    "from sklearn.metrics import precision_score\n",
    "from sklearn.metrics import recall_score\n",
    "\n",
    "from feature_format import featureFormat\n",
    "from feature_format import targetFeatureSplit\n",
    "\n",
    "#第一个特征是poi\n",
    "feature_list=['poi']\n",
    "\n",
    "#加载数据集\n",
    "data_dict=pickle.load(open(\"final_project_dataset.pkl\",'rb'))"
   ]
  },
  {
   "cell_type": "code",
   "execution_count": 9,
   "metadata": {
    "collapsed": false
   },
   "outputs": [
    {
     "name": "stdout",
     "output_type": "stream",
     "text": [
      "('There are', 146, 'executive in enron dataset')\n"
     ]
    }
   ],
   "source": [
    "print(\"There are\",len(data_dict.keys()),\"executive in enron dataset\")\n",
    "#print data_dict.keys()\n",
    "#print data_dict['BUY RICHARD B']"
   ]
  },
  {
   "cell_type": "markdown",
   "metadata": {},
   "source": [
    "原始数据集包含146条记录（人），14个财务数据特征，6个电子邮件特征，1个类标号（POI）；一共有18人被标记为嫌疑人（POI）\n",
    "\n",
    "首先，我想看看我的数据，并检查它的异常值。我绘画了安然公司员工的工资和奖金散点图，并看到了数据中的一个孤立点。"
   ]
  },
  {
   "cell_type": "code",
   "execution_count": 12,
   "metadata": {
    "collapsed": false
   },
   "outputs": [
    {
     "name": "stderr",
     "output_type": "stream",
     "text": [
      "/System/Library/Frameworks/Python.framework/Versions/2.7/Extras/lib/python/matplotlib/collections.py:548: FutureWarning: elementwise comparison failed; returning scalar instead, but in the future will perform elementwise comparison\n",
      "  if self._edgecolors == 'face':\n"
     ]
    },
    {
     "data": {
      "image/png": "[encoded data removed]",
      "text/plain": [
       "<matplotlib.figure.Figure at 0x1090f61d0>"
      ]
     },
     "metadata": {},
     "output_type": "display_data"
    }
   ],
   "source": [
    "features=['salary','bonus']\n",
    "data=featureFormat(data_dict,features)\n",
    "\n",
    "for point in data:\n",
    "    salary=point[0]\n",
    "    bonus=point[1]\n",
    "    plt.scatter(salary,bonus)\n",
    "plt.xlabel(\"salary\")\n",
    "plt.ylabel(\"bonus\")\n",
    "plt.show()"
   ]
  },
  {
   "cell_type": "code",
   "execution_count": null,
   "metadata": {
    "collapsed": true
   },
   "outputs": [],
   "source": []
  }
 ],
 "metadata": {
  "kernelspec": {
   "display_name": "Python 2",
   "language": "python",
   "name": "python2"
  },
  "language_info": {
   "codemirror_mode": {
    "name": "ipython",
    "version": 2
   },
   "file_extension": ".py",
   "mimetype": "text/x-python",
   "name": "python",
   "nbconvert_exporter": "python",
   "pygments_lexer": "ipython2",
   "version": "2.7.10"
  }
 },
 "nbformat": 4,
 "nbformat_minor": 2
}
